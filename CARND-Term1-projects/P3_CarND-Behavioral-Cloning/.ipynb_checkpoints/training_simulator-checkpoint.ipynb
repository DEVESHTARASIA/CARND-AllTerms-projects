{
 "cells": [
  {
   "cell_type": "code",
   "execution_count": 1,
   "metadata": {
    "collapsed": true
   },
   "outputs": [],
   "source": [
    "def process_image(image, measurement,flip=True):\n",
    "    if flip:\n",
    "        img = np.fliplr(image)\n",
    "        measurement = measurement * -1.0\n",
    "    \n",
    "    return image, measurement"
   ]
  },
  {
   "cell_type": "code",
   "execution_count": 2,
   "metadata": {},
   "outputs": [
    {
     "name": "stderr",
     "output_type": "stream",
     "text": [
      "100%|██████████| 8036/8036 [07:32<00:00, 17.84it/s]"
     ]
    },
    {
     "name": "stdout",
     "output_type": "stream",
     "text": [
      "8036\n"
     ]
    },
    {
     "name": "stderr",
     "output_type": "stream",
     "text": [
      "\n"
     ]
    }
   ],
   "source": [
    "import csv\n",
    "import cv2\n",
    "import numpy as np\n",
    "from tqdm import tqdm\n",
    "\n",
    "lines = []\n",
    "images = []\n",
    "measurements = []\n",
    "flip = True\n",
    "correction = 0.2\n",
    "path = \"/data/IMG/\" \n",
    "\n",
    "#load CSV file\n",
    "with open('/data/driving_log.csv') as csvfile:\n",
    "    reader = csv.reader(csvfile)\n",
    "    for line in reader:\n",
    "        lines.append(line)\n",
    "        \n",
    "for line in tqdm(lines): \n",
    "    measurement = float(line[3]) #center camera steering angle\n",
    "    \n",
    "    #iterate all cameras\n",
    "    for i in range(3):\n",
    "        source = line[i] \n",
    "        image_path = path + source.split('/')[-1]     \n",
    "        image = cv2.imread(image_path)\n",
    "        \n",
    "        #adjust steering angle based on which camera\n",
    "        #left camera\n",
    "        if i == 1:\n",
    "            measurement += correction \n",
    "        #right camera\n",
    "        elif i == 2:\n",
    "            measurement -= correction\n",
    "            \n",
    "        #augment images\n",
    "        image_aug, measurement_aug = process_image(image, measurement, flip)\n",
    "        \n",
    "        images.append(image_aug)\n",
    "        measurements.append(measurement_aug)\n",
    "        \n",
    "\n"
   ]
  },
  {
   "cell_type": "code",
   "execution_count": 3,
   "metadata": {},
   "outputs": [
    {
     "name": "stdout",
     "output_type": "stream",
     "text": [
      "Training X = (24108, 160, 320, 3)\n",
      "Training y = (24108,)\n"
     ]
    }
   ],
   "source": [
    "X_train = np.array(images)\n",
    "y_train = np.array(measurements)\n",
    "\n",
    "print(\"Training X =\", X_train.shape)\n",
    "print(\"Training y =\", y_train.shape)"
   ]
  },
  {
   "cell_type": "code",
   "execution_count": 16,
   "metadata": {
    "scrolled": false
   },
   "outputs": [
    {
     "name": "stdout",
     "output_type": "stream",
     "text": [
      "Train on 19286 samples, validate on 4822 samples\n",
      "Epoch 1/5\n",
      "19286/19286 [==============================] - 26s - loss: 0.0627 - val_loss: 0.0140\n",
      "Epoch 2/5\n",
      "19286/19286 [==============================] - 26s - loss: 0.0100 - val_loss: 0.0127\n",
      "Epoch 3/5\n",
      "19286/19286 [==============================] - 25s - loss: 0.0085 - val_loss: 0.0122\n",
      "Epoch 4/5\n",
      "19286/19286 [==============================] - 26s - loss: 0.0080 - val_loss: 0.0125\n",
      "Epoch 5/5\n",
      "19286/19286 [==============================] - 25s - loss: 0.0078 - val_loss: 0.0128\n"
     ]
    }
   ],
   "source": [
    "from keras.models import Sequential\n",
    "from keras.layers import Dense, Dropout, Flatten, Lambda, ELU\n",
    "from keras.layers.convolutional import Convolution2D\n",
    "\n",
    "\"\"\"model = Sequential()\n",
    "model.add(Lambda(lambda x: (x / 255.0) - 0.5, input_shape=(160,320,3)))\n",
    "model.add(Cropping2D(cropping=((70,25), (0,0))))\n",
    "model.add(Convolution2D(6, 5, 5, activation=\"relu\"))\n",
    "model.add(MaxPooling2D())\n",
    "model.add(Convolution2D(6, 5, 5, activation=\"relu\"))\n",
    "model.add(MaxPooling2D())\n",
    "model.add(Flatten())\n",
    "model.add(Dense(120))\n",
    "model.add(Dense(84))\n",
    "model.add(Dense(1))\"\"\"\n",
    "ch = 3\n",
    "row = 160\n",
    "col=320\n",
    "\n",
    "model = Sequential()\n",
    "model.add(Lambda(lambda x: x/127.5 - 1.,\n",
    "        input_shape=(160,320,3),\n",
    "        output_shape=(160,320,3)))\n",
    "model.add(Convolution2D(16, 8, 8, subsample=(4, 4), border_mode=\"same\"))\n",
    "model.add(ELU())\n",
    "model.add(Convolution2D(32, 5, 5, subsample=(2, 2), border_mode=\"same\"))\n",
    "model.add(ELU())\n",
    "model.add(Convolution2D(64, 5, 5, subsample=(2, 2), border_mode=\"same\"))\n",
    "model.add(Flatten())\n",
    "model.add(Dropout(.2))\n",
    "model.add(ELU())\n",
    "model.add(Dense(512))\n",
    "model.add(Dropout(.5))\n",
    "model.add(ELU())\n",
    "model.add(Dense(1))\n",
    "\n",
    "model.compile(loss='mse', optimizer='adam')\n",
    "\n",
    "model.fit(X_train, y_train, validation_split=0.2, shuffle=True, nb_epoch=5)\n",
    "\n",
    "\n",
    "model.save('model.h5')"
   ]
  },
  {
   "cell_type": "code",
   "execution_count": null,
   "metadata": {
    "collapsed": true
   },
   "outputs": [],
   "source": []
  },
  {
   "cell_type": "code",
   "execution_count": null,
   "metadata": {
    "collapsed": true
   },
   "outputs": [],
   "source": []
  }
 ],
 "metadata": {
  "kernelspec": {
   "display_name": "Python 3",
   "language": "python",
   "name": "python3"
  },
  "language_info": {
   "codemirror_mode": {
    "name": "ipython",
    "version": 3
   },
   "file_extension": ".py",
   "mimetype": "text/x-python",
   "name": "python",
   "nbconvert_exporter": "python",
   "pygments_lexer": "ipython3",
   "version": "3.5.2"
  },
  "widgets": {
   "state": {},
   "version": "1.1.2"
  }
 },
 "nbformat": 4,
 "nbformat_minor": 2
}
