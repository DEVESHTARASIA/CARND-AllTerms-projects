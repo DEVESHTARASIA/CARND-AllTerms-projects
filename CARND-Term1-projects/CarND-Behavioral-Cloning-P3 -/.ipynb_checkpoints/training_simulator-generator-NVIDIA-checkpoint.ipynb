{
 "cells": [
  {
   "cell_type": "code",
   "execution_count": 1,
   "metadata": {
    "collapsed": true
   },
   "outputs": [],
   "source": [
    "import numpy as np\n",
    "import sklearn\n",
    "import os\n",
    "import csv\n",
    "import cv2\n",
    "import numpy as np\n",
    "from sklearn.utils import shuffle\n",
    "from sklearn.model_selection import train_test_split\n",
    "\n",
    "correction = 0.25 #angle correction for left/right cameras\n",
    "total_cameras = 3 #use right and left cameras too\n",
    "batch_size = 32\n",
    "base_path = '/Users/albertoescarlate/Desktop'\n",
    "ch = 3\n",
    "row = 160\n",
    "col= 320\n",
    "new_w = 64\n",
    "new_h = 64"
   ]
  },
  {
   "cell_type": "code",
   "execution_count": 2,
   "metadata": {},
   "outputs": [],
   "source": [
    "from random import random\n",
    "\n",
    "# flip images horizontally\n",
    "def flip_image(img, angle):\n",
    "    img = cv2.flip(img, 1)\n",
    "    angle = angle * -1.0\n",
    "    return img, angle\n",
    "\n",
    "def normalize_image(img):\n",
    "    img = (img / 255) - 0.5\n",
    "    return img\n",
    "\n",
    "def convert_color_image(img):\n",
    "    img=img.astype(np.uint8)\n",
    "    img = cv2.cvtColor(img, cv2.COLOR_BGR2HSV)\n",
    "    return img\n",
    "\n",
    "# crop bottom 25 pixels + crop 25% of image top (scenery above road) + resize it to 64 x 64\n",
    "def crop_resize_image(img):\n",
    "    shape = img.shape\n",
    "    img = img[math.floor(shape[0]/4):shape[0]-25, 0:shape[1]]\n",
    "    img = cv2.resize(img, (new_w, new_h), interpolation=cv2.INTER_AREA)    \n",
    "    return img\n",
    "\n",
    "# flip input image\n",
    "def process_image(img, angle):\n",
    "    if random() > 0.5:\n",
    "        img, angle = flip_image(img, angle)\n",
    "    img = normalize_image(img)\n",
    "    img = convert_color_image(img)\n",
    "    return img, angle"
   ]
  },
  {
   "cell_type": "code",
   "execution_count": 3,
   "metadata": {
    "collapsed": true
   },
   "outputs": [],
   "source": [
    "def load_data(sample):\n",
    "    path = base_path + '/data/IMG/'\n",
    "\n",
    "    source_center = sample[0]    \n",
    "    name_center = path + source_center.split('/')[-1]\n",
    "    image_center = cv2.imread(name_center)\n",
    "    angle_center = float(sample[3])\n",
    "\n",
    "    source_left = sample[1]\n",
    "    name_left = path + source_left.split('/')[-1]\n",
    "    image_left = cv2.imread(name_left)\n",
    "    angle_left = angle_center + correction\n",
    "\n",
    "    source_right = sample[2]\n",
    "    name_right = path + source_right.split('/')[-1]\n",
    "    image_right = cv2.imread(name_right)\n",
    "    angle_right = angle_center - correction\n",
    "\n",
    "    return (image_center, image_right, image_left), (angle_center, angle_right, angle_left)\n",
    "            \n",
    "def generator(samples, batch_size=32, total_cameras=3):\n",
    "    num_samples = len(samples)\n",
    "    while 1: # Loop forever so the generator never terminates\n",
    "        sklearn.utils.shuffle(samples)\n",
    "        for offset in range(0, num_samples, batch_size):\n",
    "            batch_samples = samples[offset:offset+batch_size]\n",
    "            images = []\n",
    "            angles = []\n",
    "            for batch_sample in batch_samples:\n",
    "                image, angle = load_data(batch_sample)\n",
    "                for item in zip(image,angle): #iterate camera images and  steering angles\n",
    "                    aug_image, aug_angle = process_image(item[0], item[1])\n",
    "                    images.append(aug_image)\n",
    "                    angles.append(aug_angle)\n",
    "                \n",
    "            X_train = np.array(images)\n",
    "            y_train = np.array(angles)\n",
    "            yield sklearn.utils.shuffle(X_train, y_train)\n",
    "            "
   ]
  },
  {
   "cell_type": "code",
   "execution_count": 4,
   "metadata": {
    "collapsed": true
   },
   "outputs": [],
   "source": [
    "def model_comma_ai():\n",
    "    model = Sequential()\n",
    "    model.add(Lambda(lambda x: x/127.5 - 1., input_shape=(64, 64, 3), output_shape=(64, 64, 3)))\n",
    "    model.add(Convolution2D(16, 8, 8, subsample=(4, 4), border_mode=\"same\", activation='elu', name='Conv1'))\n",
    "    model.add(Convolution2D(32, 5, 5, subsample=(2, 2), border_mode=\"same\", activation='elu', name='Conv2'))\n",
    "    model.add(Convolution2D(64, 5, 5, subsample=(2, 2), border_mode=\"same\", activation='elu', name='Conv3'))\n",
    "    model.add(Flatten())\n",
    "    model.add(Dropout(0.2))\n",
    "    model.add(ELU())\n",
    "    model.add(Dense(512, activation='elu', name='FC1'))\n",
    "    model.add(Dropout(0.5))\n",
    "    model.add(ELU())\n",
    "    model.add(Dense(1, name='output'))\n",
    "    model.summary()\n",
    "    \n",
    "    return model"
   ]
  },
  {
   "cell_type": "code",
   "execution_count": 5,
   "metadata": {
    "collapsed": true
   },
   "outputs": [],
   "source": [
    "def model_NVIDIA():\n",
    "    model = Sequential()\n",
    "    model.add(Lambda(lambda x: x/127.5 - 1., input_shape=(64, 64, 3), output_shape=(64, 64, 3)))\n",
    "    model.add(Convolution2D(24,5,5, border_mode=\"same\", activation='elu', name='Conv1'))\n",
    "    model.add(Dropout(0.5))\n",
    "    model.add(Convolution2D(36,5,5, border_mode=\"same\", activation='elu', name='Conv2'))\n",
    "    model.add(Dropout(0.5))\n",
    "    model.add(Convolution2D(48,5,5, border_mode=\"same\", activation='elu', name='Conv3'))\n",
    "    model.add(Dropout(0.5))\n",
    "    model.add(Convolution2D(64,3,3, border_mode=\"same\", activation='elu', name='Conv4'))\n",
    "    model.add(Dropout(0.5))\n",
    "    model.add(Convolution2D(64,3,3, border_mode=\"same\", activation='elu', name='Conv5'))\n",
    "    model.add(Dropout(0.5))\n",
    "    model.add(Flatten())\n",
    "    model.add(Dense(100), activation='elu', name='FC1')))\n",
    "    model.add(Dense(50), activation='elu', name='FC2')))\n",
    "    model.add(Dense(10), activation='elu', name='FC3')))\n",
    "    model.add(Dense(1), activation='elu', name='output')))\n",
    "    \n",
    "    return model "
   ]
  },
  {
   "cell_type": "code",
   "execution_count": 6,
   "metadata": {
    "collapsed": true
   },
   "outputs": [],
   "source": [
    "def model_LeNet():\n",
    "    model = Sequential()\n",
    "    model.add(Lambda(lambda x: x/127.5 - 1., input_shape=(64,64,3), output_shape=(64,64,3)))\n",
    "    model.add(Convolution2D(6, 5, 5, border_mode=\"same\", activation='elu', name='Conv1'))\n",
    "    model.add(MaxPooling2D())\n",
    "    model.add(Convolution2D(6, 5, 5, border_mode=\"same\", activation='elu', name='Conv2'))\n",
    "    model.add(MaxPooling2D())\n",
    "    model.add(Flatten())\n",
    "    model.add(Dense(120), activation='elu', name='FC1'))))\n",
    "    model.add(Dense(84), activation='elu', name='FC2'))))\n",
    "    model.add(Dense(1), activation='elu', name='output'))))  \n",
    "    \n",
    "    return model"
   ]
  },
  {
   "cell_type": "code",
   "execution_count": 8,
   "metadata": {
    "collapsed": true
   },
   "outputs": [],
   "source": [
    "samples = []\n",
    "with open('/Users/albertoescarlate/Desktop/data/driving_log.csv') as csvfile:\n",
    "    reader = csv.reader(csvfile)\n",
    "    for line in reader:\n",
    "        samples.append(line)\n",
    "\n",
    "from sklearn.model_selection import train_test_split\n",
    "train_samples, validation_samples = train_test_split(samples, test_size=0.2)\n",
    "\n",
    "# compile and train the model using the generator function\n",
    "train_generator = generator(train_samples, batch_size)\n",
    "validation_generator = generator(validation_samples, batch_size)\n"
   ]
  },
  {
   "cell_type": "code",
   "execution_count": null,
   "metadata": {
    "scrolled": true
   },
   "outputs": [
    {
     "name": "stderr",
     "output_type": "stream",
     "text": [
      "Using TensorFlow backend.\n"
     ]
    },
    {
     "name": "stdout",
     "output_type": "stream",
     "text": [
      "Epoch 1/5\n",
      " 960/5196 [====>.........................] - ETA: 1912s - loss: 7415.5614"
     ]
    }
   ],
   "source": [
    "from keras.models import Sequential\n",
    "from keras.layers import Dense, Dropout, Flatten, Lambda, ELU, Cropping2D,Input\n",
    "from keras.layers.convolutional import Convolution2D\n",
    "from keras.regularizers import l2\n",
    "\n",
    "#model = model_comma_ai()\n",
    "model = model2() \n",
    "#model = model_NVIDIA()\n",
    "\n",
    "model.compile(loss='mse', optimizer='adam')\n",
    "\n",
    "history_object = model.fit_generator(train_generator, \n",
    "                    samples_per_epoch= len(train_samples), \n",
    "                    validation_data=validation_generator,\n",
    "                    nb_val_samples=len(validation_samples), \n",
    "                    nb_epoch=5)\n",
    "\n",
    "model.save('model.h5')\n",
    "print(\"Model saved\")"
   ]
  },
  {
   "cell_type": "code",
   "execution_count": null,
   "metadata": {
    "collapsed": true
   },
   "outputs": [],
   "source": [
    "import matplotlib.pyplot as plt\n",
    "\n",
    "print(history_object.history.keys())\n",
    "\n",
    "### plot the training and validation loss for each epoch\n",
    "plt.plot(history_object.history['loss'])\n",
    "plt.plot(history_object.history['val_loss'])\n",
    "plt.title('model mean squared error loss')\n",
    "plt.ylabel('mean squared error loss')\n",
    "plt.xlabel('epoch')\n",
    "plt.legend(['training set', 'validation set'], loc='upper right')\n",
    "plt.show()"
   ]
  },
  {
   "cell_type": "code",
   "execution_count": null,
   "metadata": {
    "collapsed": true
   },
   "outputs": [],
   "source": []
  }
 ],
 "metadata": {
  "kernelspec": {
   "display_name": "Python 3",
   "language": "python",
   "name": "python3"
  },
  "language_info": {
   "codemirror_mode": {
    "name": "ipython",
    "version": 3
   },
   "file_extension": ".py",
   "mimetype": "text/x-python",
   "name": "python",
   "nbconvert_exporter": "python",
   "pygments_lexer": "ipython3",
   "version": "3.5.2"
  },
  "widgets": {
   "state": {},
   "version": "1.1.2"
  }
 },
 "nbformat": 4,
 "nbformat_minor": 2
}
