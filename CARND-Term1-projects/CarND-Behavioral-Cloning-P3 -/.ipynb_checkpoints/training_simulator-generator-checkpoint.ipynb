{
 "cells": [
  {
   "cell_type": "code",
   "execution_count": 37,
   "metadata": {},
   "outputs": [],
   "source": [
    "import numpy as np\n",
    "import sklearn\n",
    "import os\n",
    "import csv\n",
    "import cv2\n",
    "import numpy as np\n",
    "from sklearn.utils import shuffle\n",
    "from sklearn.model_selection import train_test_split\n",
    "\n",
    "flip = True #flip image to augment data set\n",
    "correction = 0.2 #angle correction for left/right cameras\n",
    "total_cameras = 3 #use right and left cameras too\n",
    "batch_size = 128\n"
   ]
  },
  {
   "cell_type": "code",
   "execution_count": 56,
   "metadata": {
    "collapsed": true
   },
   "outputs": [],
   "source": [
    "def process_image(image, measurement,flip=True):\n",
    "    if flip:\n",
    "        img = np.fliplr(image)\n",
    "        measurement = measurement * -1.0\n",
    "    \n",
    "    return image, measurement\n",
    "\n",
    "def load_data(sample, total_cameras):\n",
    "    for i in range(total_cameras):\n",
    "        source = sample[i]\n",
    "        #print(source)\n",
    "        name = './data/IMG/'+ source.split('/')[-1]\n",
    "        image = cv2.imread(name)\n",
    "        angle = float(sample[3])\n",
    "\n",
    "        #adjust steering angle based on which camera\n",
    "        if i == 1: #left camera\n",
    "            angle += correction \n",
    "       \n",
    "        elif i == 2:  #right camera\n",
    "            angle -= correction\n",
    "    return image, angle\n",
    "            \n",
    "def generator(samples, batch_size=32, flip=True, total_cameras=3):\n",
    "    num_samples = len(samples)\n",
    "    while 1: # Loop forever so the generator never terminates\n",
    "        sklearn.utils.shuffle(samples)\n",
    "        for offset in range(0, num_samples, batch_size):\n",
    "            batch_samples = samples[offset:offset+batch_size]\n",
    "            images = []\n",
    "            angles = []\n",
    "            for batch_sample in batch_samples:\n",
    "                image, angle = load_data(batch_sample, total_cameras)\n",
    "                aug_image, aug_angle = process_image(image, angle, flip)\n",
    "                \n",
    "                images.append(aug_image)\n",
    "                angles.append(aug_angle)\n",
    "\n",
    "            # trim image to only see section with road\n",
    "            X_train = np.array(images)\n",
    "            y_train = np.array(angles)\n",
    "            yield sklearn.utils.shuffle(X_train, y_train)\n",
    "            #yield (X_train, y_train)\n"
   ]
  },
  {
   "cell_type": "code",
   "execution_count": 57,
   "metadata": {},
   "outputs": [],
   "source": [
    "samples = []\n",
    "with open('./data/driving_log.csv') as csvfile:\n",
    "    reader = csv.reader(csvfile)\n",
    "    for line in reader:\n",
    "        samples.append(line)\n",
    "\n",
    "from sklearn.model_selection import train_test_split\n",
    "train_samples, validation_samples = train_test_split(samples, test_size=0.2)\n",
    "\n",
    "# compile and train the model using the generator function\n",
    "train_generator = generator(train_samples, batch_size, flip, total_cameras)\n",
    "validation_generator = generator(validation_samples, batch_size, flip, total_cameras)\n"
   ]
  },
  {
   "cell_type": "code",
   "execution_count": 58,
   "metadata": {
    "scrolled": false
   },
   "outputs": [
    {
     "name": "stdout",
     "output_type": "stream",
     "text": [
      "Epoch 1/10\n",
      "6428/6428 [==============================] - 90s - loss: 0.2409 - val_loss: 0.0260\n",
      "Epoch 2/10\n",
      "6428/6428 [==============================] - 71s - loss: 0.0299 - val_loss: 0.0173\n",
      "Epoch 3/10\n",
      "6428/6428 [==============================] - 67s - loss: 0.0215 - val_loss: 0.0159\n",
      "Epoch 4/10\n",
      "6428/6428 [==============================] - 76s - loss: 0.0184 - val_loss: 0.0150\n",
      "Epoch 5/10\n",
      "6428/6428 [==============================] - 74s - loss: 0.0163 - val_loss: 0.0148\n",
      "Epoch 6/10\n",
      "6428/6428 [==============================] - 88s - loss: 0.0150 - val_loss: 0.0142\n",
      "Epoch 7/10\n",
      "6428/6428 [==============================] - 86s - loss: 0.0134 - val_loss: 0.0144\n",
      "Epoch 8/10\n",
      "6428/6428 [==============================] - 98s - loss: 0.0132 - val_loss: 0.0147\n",
      "Epoch 9/10\n",
      "6428/6428 [==============================] - 68s - loss: 0.0125 - val_loss: 0.0141\n",
      "Epoch 10/10\n",
      "6428/6428 [==============================] - 68s - loss: 0.0117 - val_loss: 0.0138\n",
      "Model saved\n"
     ]
    }
   ],
   "source": [
    "from keras.models import Sequential\n",
    "from keras.layers import Dense, Dropout, Flatten, Lambda, ELU, Cropping2D\n",
    "from keras.layers.convolutional import Convolution2D\n",
    "\n",
    "ch = 3\n",
    "row = 160\n",
    "col=320\n",
    "\n",
    "#ch, row, col = 3, 80, 320  # Trimmed image format\n",
    "\n",
    "model = Sequential()\n",
    "model.add(Lambda(lambda x: x/127.5 - 1., input_shape=(160,320,3), output_shape=(160,320,3)))\n",
    "#model.add(Lambda(lambda x: x/127.5 - 1.,input_shape=(ch, row, col), output_shape=(ch, row, col)))\n",
    "model.add(Cropping2D(cropping=((75,25), (0,0))))\n",
    "model.add(Convolution2D(16, 8, 8, subsample=(4, 4), border_mode=\"same\"))\n",
    "model.add(ELU())\n",
    "model.add(Convolution2D(32, 5, 5, subsample=(2, 2), border_mode=\"same\"))\n",
    "model.add(ELU())\n",
    "model.add(Convolution2D(64, 5, 5, subsample=(2, 2), border_mode=\"same\"))\n",
    "model.add(Flatten())\n",
    "model.add(Dropout(.2))\n",
    "model.add(ELU())\n",
    "model.add(Dense(512))\n",
    "model.add(Dropout(.5))\n",
    "model.add(ELU())\n",
    "model.add(Dense(1))\n",
    "model.compile(loss='mse', optimizer='adam')\n",
    "\n",
    "model.fit_generator(train_generator, \n",
    "                    samples_per_epoch= len(train_samples), \n",
    "                    validation_data=validation_generator,\n",
    "                    nb_val_samples=len(validation_samples), \n",
    "                    nb_epoch=10)\n",
    "\n",
    "model.save('model.h5')\n",
    "print(\"Model saved\")"
   ]
  },
  {
   "cell_type": "code",
   "execution_count": null,
   "metadata": {
    "collapsed": true
   },
   "outputs": [],
   "source": []
  },
  {
   "cell_type": "code",
   "execution_count": null,
   "metadata": {
    "collapsed": true
   },
   "outputs": [],
   "source": []
  }
 ],
 "metadata": {
  "kernelspec": {
   "display_name": "Python 3",
   "language": "python",
   "name": "python3"
  },
  "language_info": {
   "codemirror_mode": {
    "name": "ipython",
    "version": 3
   },
   "file_extension": ".py",
   "mimetype": "text/x-python",
   "name": "python",
   "nbconvert_exporter": "python",
   "pygments_lexer": "ipython3",
   "version": "3.5.2"
  },
  "widgets": {
   "state": {},
   "version": "1.1.2"
  }
 },
 "nbformat": 4,
 "nbformat_minor": 2
}
