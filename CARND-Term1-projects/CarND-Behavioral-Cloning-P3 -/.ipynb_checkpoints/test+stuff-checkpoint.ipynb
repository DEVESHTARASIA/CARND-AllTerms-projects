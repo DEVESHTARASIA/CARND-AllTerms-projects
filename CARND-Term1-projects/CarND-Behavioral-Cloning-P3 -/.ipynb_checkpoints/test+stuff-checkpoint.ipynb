{
 "cells": [
  {
   "cell_type": "code",
   "execution_count": 5,
   "metadata": {
    "collapsed": true
   },
   "outputs": [],
   "source": [
    "import numpy as np\n",
    "import os\n",
    "import csv\n",
    "import cv2\n",
    "import numpy as np"
   ]
  },
  {
   "cell_type": "code",
   "execution_count": 7,
   "metadata": {},
   "outputs": [],
   "source": [
    "samples = []\n",
    "correction = 0.2\n",
    "with open('./data/driving_log.csv') as csvfile:\n",
    "    reader = csv.reader(csvfile)\n",
    "    for line in reader:\n",
    "        samples.append(line)"
   ]
  },
  {
   "cell_type": "code",
   "execution_count": null,
   "metadata": {
    "collapsed": true
   },
   "outputs": [],
   "source": []
  },
  {
   "cell_type": "code",
   "execution_count": 8,
   "metadata": {
    "collapsed": true
   },
   "outputs": [],
   "source": [
    "def load_data(sample):\n",
    "    \n",
    "    source_center = sample[0]\n",
    "    name_center = '/data/IMG/'+ source_center.split('/')[-1]\n",
    "    image_center = cv2.imread(name_center)\n",
    "    angle_center = float(sample[3])\n",
    "\n",
    "    source_left = sample[1]\n",
    "    name_left = '/data/IMG/'+ source_left.split('/')[-1]\n",
    "    image_left = cv2.imread(name_left)\n",
    "    angle_left = angle_center + correction\n",
    "\n",
    "    source_right = sample[2]\n",
    "    name_right = '/data/IMG/'+ source_right.split('/')[-1]\n",
    "    image_right = cv2.imread(name_right)\n",
    "    angle_right = angle_center - correction\n",
    "\n",
    "    return (image_center, image_right, image_left), (angle_center, angle_right, angle_left)"
   ]
  },
  {
   "cell_type": "code",
   "execution_count": 9,
   "metadata": {},
   "outputs": [],
   "source": [
    "i, a = load_data(samples[0])"
   ]
  },
  {
   "cell_type": "code",
   "execution_count": 10,
   "metadata": {},
   "outputs": [],
   "source": [
    "b = zip(i,a)"
   ]
  },
  {
   "cell_type": "code",
   "execution_count": 11,
   "metadata": {
    "scrolled": false
   },
   "outputs": [
    {
     "name": "stdout",
     "output_type": "stream",
     "text": [
      "-----------------------\n",
      "(None, 0.0)\n",
      "-----------------------\n",
      "(None, -0.2)\n",
      "-----------------------\n",
      "(None, 0.2)\n"
     ]
    }
   ],
   "source": [
    "for x  in b:\n",
    "    print(\"-----------------------\")\n",
    "    print(x)"
   ]
  },
  {
   "cell_type": "code",
   "execution_count": null,
   "metadata": {
    "collapsed": true
   },
   "outputs": [],
   "source": []
  }
 ],
 "metadata": {
  "kernelspec": {
   "display_name": "Python 3",
   "language": "python",
   "name": "python3"
  },
  "language_info": {
   "codemirror_mode": {
    "name": "ipython",
    "version": 3
   },
   "file_extension": ".py",
   "mimetype": "text/x-python",
   "name": "python",
   "nbconvert_exporter": "python",
   "pygments_lexer": "ipython3",
   "version": "3.5.2"
  },
  "widgets": {
   "state": {},
   "version": "1.1.2"
  }
 },
 "nbformat": 4,
 "nbformat_minor": 2
}
